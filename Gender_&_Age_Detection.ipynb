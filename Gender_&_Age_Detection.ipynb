{
  "nbformat": 4,
  "nbformat_minor": 0,
  "metadata": {
    "colab": {
      "provenance": []
    },
    "kernelspec": {
      "name": "python3",
      "display_name": "Python 3"
    },
    "language_info": {
      "name": "python"
    }
  },
  "cells": [
    {
      "cell_type": "code",
      "source": [
        "!pip install gradio"
      ],
      "metadata": {
        "id": "1ToPvDCJFgwr"
      },
      "execution_count": null,
      "outputs": []
    },
    {
      "cell_type": "markdown",
      "source": [
        "**Image Input**"
      ],
      "metadata": {
        "id": "SxuX6CWEJJNy"
      }
    },
    {
      "cell_type": "code",
      "execution_count": null,
      "metadata": {
        "id": "yfsxrAEDBfgA"
      },
      "outputs": [],
      "source": [
        "import cv2\n",
        "import gradio as gr\n",
        "import numpy as np\n",
        "\n",
        "face1 = \"/content/drive/MyDrive/Minor Project/opencv_face_detector.pbtxt\"\n",
        "face2 = \"/content/drive/MyDrive/Minor Project/opencv_face_detector_uint8.pb\"\n",
        "age1 = \"/content/drive/MyDrive/Minor Project/age_deploy.prototxt\"\n",
        "age2 = \"/content/drive/MyDrive/Minor Project/age_net.caffemodel\"\n",
        "gen1 = \"/content/drive/MyDrive/Minor Project/gender_deploy.prototxt\"\n",
        "gen2 = \"/content/drive/MyDrive/Minor Project/gender_net.caffemodel\"\n",
        "\n",
        "MODEL_MEAN_VALUES = (78.4263377603, 87.7689143744, 114.895847746)\n",
        "\n",
        "# Face\n",
        "face = cv2.dnn.readNet(face2, face1)\n",
        "# age\n",
        "age = cv2.dnn.readNetFromCaffe(age1, age2)\n",
        "# gender\n",
        "gen = cv2.dnn.readNetFromCaffe(gen1, gen2)\n",
        "\n",
        "# Categories of distribution\n",
        "la = ['(0, 2)', '(4, 6)', '(8, 12)', '(15, 20)', '(25, 32)', '(38, 43)', '(48, 53)', '(60, 100)']\n",
        "lg = ['Male', 'Female']\n",
        "\n",
        "def predict_age_gender(input_image):\n",
        "    input_image = cv2.resize(input_image, (980, 980))\n",
        "    fr_cv = np.array(input_image)\n",
        "    fr_h, fr_w, _= fr_cv.shape\n",
        "    blob = cv2.dnn.blobFromImage(fr_cv, 1.0, (300, 300),\n",
        "                                [104, 117, 123], True, False)\n",
        "\n",
        "    face.setInput(blob)\n",
        "    detections = face.forward()\n",
        "    faceBoxes = []\n",
        "    for i in range(detections.shape[2]):\n",
        "        confidence = detections[0, 0, i, 2]\n",
        "        if confidence > 0.92:\n",
        "            x1 = int(detections[0, 0, i, 3]*fr_w)\n",
        "            y1 = int(detections[0, 0, i, 4]*fr_h)\n",
        "            x2 = int(detections[0, 0, i, 5]*fr_w)\n",
        "            y2 = int(detections[0, 0, i, 6]*fr_h)\n",
        "            faceBoxes.append([x1, y1, x2, y2])\n",
        "            cv2.rectangle(fr_cv, (x1, y1), (x2, y2),\n",
        "                          (0, 350, 0), int(round(fr_h/250)), 8)\n",
        "\n",
        "    if not faceBoxes:\n",
        "        return fr_cv\n",
        "\n",
        "    for faceBox in faceBoxes:\n",
        "        face_img = fr_cv[max(0, faceBox[1] - 60):\n",
        "                          min(faceBox[3] + 60, fr_h - 1),\n",
        "                          max(0, faceBox[0] - 60):min(faceBox[2] + 60,\n",
        "                                                       fr_w - 1)]\n",
        "\n",
        "        blob = cv2.dnn.blobFromImage(\n",
        "            face_img, 1.0, (227, 227), MODEL_MEAN_VALUES, swapRB=False)\n",
        "\n",
        "        gen.setInput(blob)\n",
        "        genderPreds = gen.forward()\n",
        "        gender = lg[genderPreds[0].argmax()]\n",
        "\n",
        "        age.setInput(blob)\n",
        "        agePreds = age.forward()\n",
        "\n",
        "        predictedAge = la[agePreds[0].argmax()]\n",
        "\n",
        "        #age_conf_threshold = 0.99\n",
        "\n",
        "        #if np.max(agePreds[0]) > age_conf_threshold:\n",
        "            #age_index = np.argmax(agePreds)\n",
        "            #predictedAge = la[age_index]\n",
        "\n",
        "        cv2.putText(fr_cv,\n",
        "                    f'{gender}, {predictedAge}',\n",
        "                    (faceBox[0] + 20, faceBox[3] + 20),\n",
        "                    cv2.FONT_ITALIC,\n",
        "                    3.0,\n",
        "                    (217, 0, 60),\n",
        "                    3,\n",
        "                    cv2.LINE_AA)\n",
        "\n",
        "    return fr_cv, f'Gender: {gender}\\nAge: {predictedAge}'\n",
        "\n",
        "iface = gr.Interface(\n",
        "    fn=predict_age_gender,\n",
        "    inputs=gr.Image(label=\"Image Input\"),\n",
        "    outputs=['image','text'],\n",
        "    title=\"Gender & Age Detection\",\n",
        "    description=\"Identifies Faces & Detects Gender & Age Acoordingly\",\n",
        "\n",
        ")\n",
        "\n",
        "iface.launch()\n"
      ]
    }
  ]
}